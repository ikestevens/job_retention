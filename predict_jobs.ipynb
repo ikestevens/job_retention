{
 "cells": [
  {
   "cell_type": "code",
   "execution_count": 1,
   "metadata": {},
   "outputs": [],
   "source": [
    "import numpy as np\n",
    "import pandas as pd\n",
    "from sklearn.linear_model import LinearRegression\n",
    "from sklearn.model_selection import train_test_split\n",
    "import matplotlib.pyplot as plt\n",
    "from sklearn.feature_selection import RFE"
   ]
  },
  {
   "cell_type": "code",
   "execution_count": 2,
   "metadata": {},
   "outputs": [],
   "source": [
    "#Read in data\n",
    "full_train = pd.read_csv(\"PPP Train ALL.csv\")\n",
    "full_test = pd.read_csv(\"PPP Test ALL.csv\")"
   ]
  },
  {
   "cell_type": "code",
   "execution_count": 3,
   "metadata": {},
   "outputs": [],
   "source": [
    "#Set X and y dataframes\n",
    "y = full_train['JobsRetained']\n",
    "X = full_train.drop('JobsRetained', axis=1)"
   ]
  },
  {
   "cell_type": "code",
   "execution_count": 4,
   "metadata": {},
   "outputs": [
    {
     "name": "stdout",
     "output_type": "stream",
     "text": [
      "Unnamed: 0: 3966377\n",
      "BusinessType: 17\n",
      "CD: 525\n",
      "City: 33772\n",
      "DateApproved: 79\n",
      "Gender: 3\n",
      "Lender: 4858\n",
      "LoanRange: 10\n",
      "NAICSCode: 1057\n",
      "NonProfit: 2\n",
      "RaceEthnicity: 9\n",
      "State: 51\n",
      "Veteran: 3\n",
      "Zip: 35634\n",
      "Industry: 1057\n",
      "Index: 3966377\n"
     ]
    }
   ],
   "source": [
    "#Count Unique Values of Each Column\n",
    "for colName, colValues in X.iteritems():\n",
    "    print(colName + \": \" + str(X[colName].nunique()))"
   ]
  },
  {
   "cell_type": "code",
   "execution_count": 5,
   "metadata": {},
   "outputs": [
    {
     "name": "stdout",
     "output_type": "stream",
     "text": [
      "Unnamed: 0: 350000\n",
      "BusinessType: 16\n",
      "CD: 463\n",
      "City: 15557\n",
      "DateApproved: 79\n",
      "Gender: 3\n",
      "Lender: 4564\n",
      "LoanRange: 10\n",
      "NAICSCode: 1056\n",
      "NonProfit: 2\n",
      "RaceEthnicity: 8\n",
      "State: 51\n",
      "Veteran: 3\n",
      "Zip: 25008\n",
      "Industry: 1056\n",
      "Index: 350000\n"
     ]
    }
   ],
   "source": [
    "#Count Unique Values of Each Column\n",
    "for colName, colValues in full_test.iteritems():\n",
    "    print(colName + \": \" + str(full_test[colName].nunique()))"
   ]
  },
  {
   "cell_type": "code",
   "execution_count": 6,
   "metadata": {},
   "outputs": [],
   "source": [
    "#Function to drop the columns we don't want\n",
    "def dropColumns(df):\n",
    "    df = df.drop('Unnamed: 0', axis=1)\n",
    "    df = df.drop('Index', axis=1)\n",
    "    df = df.drop('City', axis=1)\n",
    "    df = df.drop('Lender', axis=1)\n",
    "    df = df.drop('NAICSCode', axis=1)\n",
    "    df = df.drop('CD', axis=1)\n",
    "    df = df.drop('NonProfit', axis=1)\n",
    "    df = df.drop('Industry', axis=1)\n",
    "    df = df.drop('Veteran', axis=1)\n",
    "    #df = df.drop('State', axis=1)\n",
    "    df = df.drop('Zip', axis=1)\n",
    "    #df = df.drop('DateApproved', axis=1)\n",
    "    #df = df.drop('LoanRange', axis=1)\n",
    "    #df = df.drop('Gender', axis=1)\n",
    "    #df = df.drop('BusinessType', axis=1)\n",
    "    #df = df.drop('RaceEthnicity', axis=1)\n",
    "    \n",
    "    return df"
   ]
  },
  {
   "cell_type": "code",
   "execution_count": 7,
   "metadata": {},
   "outputs": [],
   "source": [
    "X = dropColumns(X)\n",
    "X_final_test = dropColumns(full_test)"
   ]
  },
  {
   "cell_type": "code",
   "execution_count": 8,
   "metadata": {},
   "outputs": [],
   "source": [
    "#Convert all categorical variables into dummy variables\n",
    "X = pd.get_dummies(X)\n",
    "X_final_test = pd.get_dummies(X_final_test)"
   ]
  },
  {
   "cell_type": "code",
   "execution_count": 9,
   "metadata": {},
   "outputs": [],
   "source": [
    "# Get missing columns in the training test\n",
    "missing_cols = set( X.columns ) - set( X_final_test.columns )\n",
    "# Add a missing column in test set with default value equal to 0\n",
    "for c in missing_cols:\n",
    "    X_final_test[c] = 0\n",
    "# Ensure the order of column in the test set is in the same order than in train set\n",
    "X_final_test = X_final_test[X.columns]"
   ]
  },
  {
   "cell_type": "code",
   "execution_count": 10,
   "metadata": {},
   "outputs": [
    {
     "name": "stdout",
     "output_type": "stream",
     "text": [
      "   BusinessType_Cooperative  BusinessType_Corporation  \\\n",
      "0                         0                         0   \n",
      "1                         0                         0   \n",
      "\n",
      "   BusinessType_Employee Stock Ownership Plan(ESOP)  \\\n",
      "0                                                 0   \n",
      "1                                                 0   \n",
      "\n",
      "   BusinessType_Independent Contractors  BusinessType_Joint Venture  \\\n",
      "0                                     1                           0   \n",
      "1                                     0                           0   \n",
      "\n",
      "   BusinessType_Limited  Liability Company(LLC)  \\\n",
      "0                                             0   \n",
      "1                                             1   \n",
      "\n",
      "   BusinessType_Limited Liability Partnership  \\\n",
      "0                                           0   \n",
      "1                                           0   \n",
      "\n",
      "   BusinessType_Non-Profit Childcare Center  \\\n",
      "0                                         0   \n",
      "1                                         0   \n",
      "\n",
      "   BusinessType_Non-Profit Organization  BusinessType_Partnership    ...     \\\n",
      "0                                     0                         0    ...      \n",
      "1                                     0                         0    ...      \n",
      "\n",
      "   State_SD  State_TN  State_TX  State_UT  State_VA  State_VT  State_WA  \\\n",
      "0         0         0         0         0         0         0         0   \n",
      "1         0         0         0         0         0         0         0   \n",
      "\n",
      "   State_WI  State_WV  State_WY  \n",
      "0         0         0         0  \n",
      "1         0         0         0  \n",
      "\n",
      "[2 rows x 169 columns]\n"
     ]
    }
   ],
   "source": [
    "print(X.head(2))"
   ]
  },
  {
   "cell_type": "code",
   "execution_count": null,
   "metadata": {},
   "outputs": [],
   "source": [
    "##USE THIS TO FIGURE OUT WHAT VARIABLES TO USE\n",
    "rfe = RFE(model, 20)\n",
    "rfe = rfe.fit(X, Y.values.ravel())\n",
    "print(rfe.support_)\n",
    "print(rfe.ranking_)"
   ]
  },
  {
   "cell_type": "code",
   "execution_count": null,
   "metadata": {},
   "outputs": [],
   "source": [
    "##USE LOGIT TO GET THE P VALUES FOR THE COEFFICIENTS - IF ANY P-VALUES ARE <.05 YOU CAN REMOVE THOSE COLUMNS FROM THE REGRESSION\n",
    "import statsmodels.api as sm\n",
    "logit_model=sm.Logit(Y,X)\n",
    "result=logit_model.fit()\n",
    "print(result.summary2())"
   ]
  },
  {
   "cell_type": "code",
   "execution_count": null,
   "metadata": {},
   "outputs": [],
   "source": [
    "#TAKE A SUBSET OF THE COLUMNS BASED ON THE RFE AND THE LOGIT MODEL\n",
    "cols = X[[]]"
   ]
  },
  {
   "cell_type": "code",
   "execution_count": 11,
   "metadata": {},
   "outputs": [],
   "source": [
    "X_train, X_test, y_train, y_test = train_test_split(X, y, test_size=0.33, random_state=42)"
   ]
  },
  {
   "cell_type": "code",
   "execution_count": 12,
   "metadata": {},
   "outputs": [],
   "source": [
    "model = LinearRegression()"
   ]
  },
  {
   "cell_type": "code",
   "execution_count": 13,
   "metadata": {},
   "outputs": [
    {
     "data": {
      "text/plain": [
       "LinearRegression(copy_X=True, fit_intercept=True, n_jobs=1, normalize=False)"
      ]
     },
     "execution_count": 13,
     "metadata": {},
     "output_type": "execute_result"
    }
   ],
   "source": [
    "model.fit(X_train, y_train)"
   ]
  },
  {
   "cell_type": "code",
   "execution_count": 14,
   "metadata": {},
   "outputs": [
    {
     "name": "stdout",
     "output_type": "stream",
     "text": [
      "coefficient of determination: 0.5943299147244074\n"
     ]
    }
   ],
   "source": [
    "r_sq = model.score(X_train, y_train)\n",
    "print('coefficient of determination:', r_sq)"
   ]
  },
  {
   "cell_type": "code",
   "execution_count": 15,
   "metadata": {},
   "outputs": [
    {
     "name": "stdout",
     "output_type": "stream",
     "text": [
      "[24.54492188 10.44335938 13.23046875 ...  2.33789062  5.24023438\n",
      "  5.06835938]\n"
     ]
    }
   ],
   "source": [
    "pred = model.predict(X_test)\n",
    "print(pred)"
   ]
  },
  {
   "cell_type": "code",
   "execution_count": 16,
   "metadata": {},
   "outputs": [
    {
     "data": {
      "image/png": "[encoded data removed]",
      "text/plain": [
       "<Figure size 432x288 with 1 Axes>"
      ]
     },
     "metadata": {
      "needs_background": "light"
     },
     "output_type": "display_data"
    }
   ],
   "source": [
    "fig, ax = plt.subplots()\n",
    "ax.scatter(y_test, pred, s = 1)\n",
    "ax.plot([y.min(), y.max()], [y.min(), y.max()], 'k--', lw=1)\n",
    "ax.set_xlabel('Actuals')\n",
    "ax.set_ylabel('Predicted')\n",
    "plt.show()"
   ]
  },
  {
   "cell_type": "code",
   "execution_count": 17,
   "metadata": {},
   "outputs": [
    {
     "name": "stdout",
     "output_type": "stream",
     "text": [
      "[ 0.  3.  7.  3.  3.  5.  1.  2.  2.  3. 53.  9.  2.  0.  1.]\n"
     ]
    }
   ],
   "source": [
    "test_pred = model.predict(X_final_test)\n",
    "test_pred = np.round(test_pred)\n",
    "print(test_pred[:15])"
   ]
  },
  {
   "cell_type": "code",
   "execution_count": 18,
   "metadata": {},
   "outputs": [
    {
     "name": "stdout",
     "output_type": "stream",
     "text": [
      "350000\n"
     ]
    }
   ],
   "source": [
    "print(len(test_pred))"
   ]
  },
  {
   "cell_type": "code",
   "execution_count": 21,
   "metadata": {},
   "outputs": [],
   "source": [
    "submission_df = pd.DataFrame({'JobsRetained': test_pred})"
   ]
  },
  {
   "cell_type": "code",
   "execution_count": 22,
   "metadata": {},
   "outputs": [],
   "source": [
    "submission_df.to_csv(\"submission3.csv\", index=True, index_label='Index')"
   ]
  },
  {
   "cell_type": "code",
   "execution_count": null,
   "metadata": {},
   "outputs": [],
   "source": []
  }
 ],
 "metadata": {
  "kernelspec": {
   "display_name": "Python 3",
   "language": "python",
   "name": "python3"
  },
  "language_info": {
   "codemirror_mode": {
    "name": "ipython",
    "version": 3
   },
   "file_extension": ".py",
   "mimetype": "text/x-python",
   "name": "python",
   "nbconvert_exporter": "python",
   "pygments_lexer": "ipython3",
   "version": "3.7.0"
  }
 },
 "nbformat": 4,
 "nbformat_minor": 2
}
